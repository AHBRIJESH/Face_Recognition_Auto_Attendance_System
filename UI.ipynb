{
 "cells": [
  {
   "cell_type": "code",
   "execution_count": 1,
   "metadata": {},
   "outputs": [],
   "source": [
    "import numpy as np\n",
    "import pandas as pd\n",
    "import os\n",
    "import cv2\n",
    "import matplotlib.pyplot as plt\n",
    "from datetime import datetime \n",
    "from tensorflow.keras.models import load_model"
   ]
  },
  {
   "cell_type": "code",
   "execution_count": 2,
   "metadata": {},
   "outputs": [],
   "source": [
    "cnn = load_model('model.keras')"
   ]
  },
  {
   "cell_type": "code",
   "execution_count": 10,
   "metadata": {},
   "outputs": [
    {
     "name": "stdout",
     "output_type": "stream",
     "text": [
      "\u001b[1m1/1\u001b[0m \u001b[32m━━━━━━━━━━━━━━━━━━━━\u001b[0m\u001b[37m\u001b[0m \u001b[1m0s\u001b[0m 438ms/step\n",
      "\u001b[1m1/1\u001b[0m \u001b[32m━━━━━━━━━━━━━━━━━━━━\u001b[0m\u001b[37m\u001b[0m \u001b[1m0s\u001b[0m 86ms/step\n",
      "\u001b[1m1/1\u001b[0m \u001b[32m━━━━━━━━━━━━━━━━━━━━\u001b[0m\u001b[37m\u001b[0m \u001b[1m0s\u001b[0m 67ms/step\n",
      "\u001b[1m1/1\u001b[0m \u001b[32m━━━━━━━━━━━━━━━━━━━━\u001b[0m\u001b[37m\u001b[0m \u001b[1m0s\u001b[0m 58ms/step\n"
     ]
    }
   ],
   "source": [
    "cap = cv2.VideoCapture(0)\n",
    "results = []\n",
    "\n",
    "while (True):\n",
    "    ret,frame = cap.read()\n",
    "    if ret == False:\n",
    "        print(\"Can't capture an image.\")\n",
    "        break\n",
    "    \n",
    "    cv2.imshow('Camera',frame)\n",
    "    key = cv2.waitKey(1)\n",
    "\n",
    "    if key == ord('s'):\n",
    "        \n",
    "        cap_img= 'captured Image.jpg'.format(len(results) + 1)\n",
    "        cv2.imwrite(cap_img,frame)\n",
    "        resized_frame = cv2.resize(frame, (300, 300))\n",
    "        img = cv2.cvtColor(resized_frame, cv2.COLOR_BGR2RGB)\n",
    "        g_image = cv2.cvtColor(img, cv2.COLOR_RGB2GRAY)\n",
    "        in_img = g_image.reshape(1,300,300,1)\n",
    "        predection = cnn.predict(in_img)\n",
    "        labels = ['donald','mickey','minion','olfa','pooh','pumba']\n",
    "        Name = labels[np.argmax(predection)]\n",
    "\n",
    "\n",
    "        currunt_time = datetime.now()\n",
    "        Date = currunt_time.strftime('%d-%m-%Y')\n",
    "        time = currunt_time.strftime('%H %M')\n",
    "        results.append({ 'Name': Name, 'Date': Date, 'Time' : time})\n",
    "\n",
    "\n",
    "    elif key == ord('q'):\n",
    "        break\n",
    "\n",
    "df = pd.DataFrame(results)\n",
    "df.to_excel('Attendence.xlsx',index=False)\n",
    "\n",
    "cap.release()\n",
    "cv2.destroyAllWindows()"
   ]
  }
 ],
 "metadata": {
  "kernelspec": {
   "display_name": "Python 3",
   "language": "python",
   "name": "python3"
  },
  "language_info": {
   "codemirror_mode": {
    "name": "ipython",
    "version": 3
   },
   "file_extension": ".py",
   "mimetype": "text/x-python",
   "name": "python",
   "nbconvert_exporter": "python",
   "pygments_lexer": "ipython3",
   "version": "3.12.3"
  }
 },
 "nbformat": 4,
 "nbformat_minor": 2
}
