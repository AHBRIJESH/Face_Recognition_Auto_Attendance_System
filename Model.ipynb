{
 "cells": [
  {
   "cell_type": "markdown",
   "metadata": {},
   "source": [
    "<h1 align=\"center\">Face Recogonation System</h1>\n",
    "\n",
    "The `pickle` module is used for serializing and deserializing Python objects, allowing you to save models, data, or other Python objects to disk and load them later.\n",
    "\n",
    "`NumPy` is a library for numerical operations in Python. Here, `np` is a common alias for NumPy, and it provides powerful tools for handling arrays, mathematical functions, and random number generation.\n",
    "\n",
    "`pandas` is a data manipulation library commonly used for handling and analyzing structured data in Python. `pd` is a common alias for pandas, and it provides structures like DataFrames and Series for data organization.\n",
    "\n",
    "`seaborn` is a visualization library built on top of `matplotlib`, used for making statistical graphics and visualizations in Python. `sns` is a common alias for seaborn, and it offers tools for creating attractive and informative data visualizations.\n",
    "\n",
    "`TensorFlow` is an open-source machine learning framework developed by Google. `tf` is a common alias for TensorFlow, and it provides tools for building and training deep learning models.\n",
    "\n",
    "The `to_categorical` function, part of TensorFlow’s Keras utilities, converts class vectors (integers) to binary class matrices. It is commonly used in categorical classification to convert labels into a one-hot encoded format for neural networks.\n",
    "\n",
    "`Sequential` is a linear stack of layers in Keras. It allows you to build a model by adding layers in a step-by-step sequence, making it ideal for straightforward architectures.\n",
    "\n",
    "The layers from `tensorflow.keras.layers` include:\n",
    "- `MaxPooling2D`, which applies a max-pooling operation to reduce the spatial dimensions of the input. This operation helps decrease computational requirements and mitigate overfitting.\n",
    "- `Conv2D`, a 2D convolution layer that processes 2D data, like images. This layer is commonly used in Convolutional Neural Networks (CNNs).\n",
    "- `Dense`, a fully connected layer typically used after convolution and pooling layers for classification tasks.\n",
    "- `Flatten`, which reshapes the input from 2D to 1D, enabling it to be passed to a fully connected layer."
   ]
  },
  {
   "cell_type": "code",
   "execution_count": 3,
   "metadata": {
    "id": "sv4Tm3EhQpmt"
   },
   "outputs": [],
   "source": [
    "import pickle\n",
    "import numpy as np\n",
    "import pandas as pd\n",
    "import seaborn as sns\n",
    "import tensorflow as tf\n",
    "from tensorflow.keras.utils import to_categorical\n",
    "from tensorflow.keras.models import Sequential\n",
    "from tensorflow.keras.layers import MaxPooling2D,Conv2D,Dense,Flatten"
   ]
  },
  {
   "cell_type": "markdown",
   "metadata": {},
   "source": [
    "These lines define the file paths for `X_categories.pickle` and `y_labels.pickle` as `x_path` and `y_path`, respectively. \n",
    "\n",
    "- **`r` (Raw String Prefix)**: Adding `r` before the path makes it a *raw string*, so Python treats backslashes as literal characters. This avoids issues with special characters like `\\n` or `\\t`.\n",
    "- **File Paths**: \n",
    "  - `x_path` points to the file `X_categories.pickle`, which likely contains features or input data (often `X` in machine learning).\n",
    "  - `y_path` points to the file `y_labels.pickle`, which probably contains labels or target values (commonly denoted as `y`).\n",
    "\n",
    "These files may be pickled Python objects, which can be loaded using the `pickle` module."
   ]
  },
  {
   "cell_type": "code",
   "execution_count": 4,
   "metadata": {
    "id": "WjOkMPFTQpmv"
   },
   "outputs": [],
   "source": [
    "x_path = r'/content/X_categories.pickle'\n",
    "y_path = r'/content/y_labels.pickle'"
   ]
  },
  {
   "cell_type": "markdown",
   "metadata": {},
   "source": [
    "The first `with open` block opens the file at `x_path` in read-binary (`'rb'`) mode. It assigns the unpickled data from the file to `X_data`. The data in this file likely represents features or input data for a machine learning model.\n",
    "\n",
    "The second `with open` block opens the file at `y_path` in read-binary (`'rb'`) mode. It assigns the unpickled data from the file to `Y_data`. This data typically represents labels or target values for model training.\n",
    "\n",
    "The `with` statement ensures that the file is properly closed after reading, which is good practice when working with files."
   ]
  },
  {
   "cell_type": "code",
   "execution_count": 5,
   "metadata": {
    "id": "hkPBTL1jQpmv"
   },
   "outputs": [],
   "source": [
    "with open(x_path,'rb') as file:\n",
    "    X_data = pickle.load(file)\n",
    "\n",
    "with open(y_path,'rb') as file:\n",
    "    Y_data = pickle.load(file)"
   ]
  },
  {
   "cell_type": "markdown",
   "metadata": {},
   "source": [
    "- **Mapping Dictionary**: The dictionary `mappings` maps numerical labels (0 to 5) to character names such as `'Donald'`, `'Mickey'`, and so on. Each number corresponds to a specific character name.\n",
    "  \n",
    "- **Convert Labels to Series**: `Y_data_count` creates a pandas `Series` from `Y_data`, which is likely a list or array of numeric labels.\n",
    "  \n",
    "- **Mapping Labels to Names**: The `map` function applies the `mappings` dictionary to replace numeric labels in `Y_data_count` with their corresponding character names. This mapped series is saved as `img_count`.\n",
    "\n",
    "- **Count Plot**: `sns.countplot(img_count)` generates a count plot with `img_count`, showing the frequency of each character label. This visualization provides insights into the distribution of labels, which is helpful for checking class balance in the dataset."
   ]
  },
  {
   "cell_type": "code",
   "execution_count": 6,
   "metadata": {
    "colab": {
     "base_uri": "https://localhost:8080/",
     "height": 466
    },
    "id": "423A1-klQpmv",
    "outputId": "1f244244-7593-4c70-fa35-d3fca90cd5d2"
   },
   "outputs": [
    {
     "data": {
      "text/plain": [
       "<Axes: xlabel='count'>"
      ]
     },
     "execution_count": 6,
     "metadata": {},
     "output_type": "execute_result"
    },
    {
     "data": {
      "image/png": "[encoded data removed]",
      "text/plain": [
       "<Figure size 640x480 with 1 Axes>"
      ]
     },
     "metadata": {},
     "output_type": "display_data"
    }
   ],
   "source": [
    "mappings = {0:'Donald',1:'Mickey',2:'Minion',3:'Olaf',4:'Pooh',5:'Pumba'}\n",
    "Y_data_count = pd.Series(Y_data)\n",
    "img_count = Y_data_count.map(mappings)\n",
    "sns.countplot(img_count)"
   ]
  },
  {
   "cell_type": "markdown",
   "metadata": {},
   "source": [
    "This will output the dimensions of the first item in `X_data`. Here are possible interpretations based on the typical structure of image data:\n",
    "\n",
    "- If `X_data[0]` is an **image** in RGB format, the output might be `(height, width, 3)`, where `3` represents the RGB color channels.\n",
    "- If it’s a **grayscale image**, the output might be `(height, width, 1)`, where `1` represents the single grayscale channel.\n",
    "- For **non-image data**, it could be a single-dimensional array like `(features,)`, indicating the number of features in each sample."
   ]
  },
  {
   "cell_type": "code",
   "execution_count": null,
   "metadata": {
    "colab": {
     "base_uri": "https://localhost:8080/"
    },
    "id": "K9yuKsKfQpmw",
    "outputId": "bf2c47c9-dec0-4164-dc0e-d4d63a30600d"
   },
   "outputs": [
    {
     "data": {
      "text/plain": [
       "(224, 224, 3)"
      ]
     },
     "execution_count": 7,
     "metadata": {},
     "output_type": "execute_result"
    }
   ],
   "source": [
    "X_data[0].shape"
   ]
  },
  {
   "cell_type": "markdown",
   "metadata": {},
   "source": [
    "The expression `X_data.shape[0]` returns the **number of samples** or data points in `X_data`.\n",
    "\n",
    "- **For images**: If `X_data` is an array of images, `X_data.shape[0]` gives the total number of images in the dataset.\n",
    "- **For other data types**: If `X_data` is a multi-dimensional array or matrix, `shape[0]` gives the number of rows (or samples) in the dataset.\n",
    "\n",
    "This is useful for understanding the size of your dataset, especially when performing operations like splitting data into training and test sets or analyzing dataset dimensions. "
   ]
  },
  {
   "cell_type": "code",
   "execution_count": 8,
   "metadata": {
    "colab": {
     "base_uri": "https://localhost:8080/"
    },
    "id": "JZqt4va3Qpmw",
    "outputId": "a2a6e716-61dc-4fcd-a8e2-a47964b3aca2"
   },
   "outputs": [
    {
     "data": {
      "text/plain": [
       "2453"
      ]
     },
     "execution_count": 8,
     "metadata": {},
     "output_type": "execute_result"
    }
   ],
   "source": [
    "X_data.shape[0]"
   ]
  },
  {
   "cell_type": "markdown",
   "metadata": {},
   "source": [
    "This reshapes the `X_data` array into a new shape for use in training a neural network, especially a Convolutional Neural Network (CNN) that processes image data. Here's an explanation:\n",
    "\n",
    "1. **`X_data.shape[0]`**: This represents the number of samples (or images) in your dataset. The first dimension is preserved, meaning the reshaped array will have the same number of samples as `X_data`.\n",
    "\n",
    "2. **`224, 224`**: These are the new height and width dimensions of the images. It means that the images will be resized to 224 pixels by 224 pixels. This is a common input size for models like ResNet, VGG, and other pre-trained models in deep learning. If the images in `X_data` are not already 224x224, they will need to be resized before this reshape.\n",
    "\n",
    "3. **`3`**: This represents the number of color channels (i.e., RGB channels) for each image. This means that each pixel in the image will have three values corresponding to Red, Green, and Blue channels.\n",
    "\n",
    "- **Assumptions**: \n",
    "  - The original images in `X_data` should be of the same size or can be resized to 224x224 pixels.\n",
    "  - The images are in RGB format, meaning they have 3 channels.\n",
    "\n",
    "This reshaping prepares the data to be fed into a neural network that expects images with specific dimensions (224x224x3)."
   ]
  },
  {
   "cell_type": "code",
   "execution_count": 15,
   "metadata": {
    "id": "3qjADRhkQpmw"
   },
   "outputs": [],
   "source": [
    "X_train = X_data.reshape(X_data.shape[0],224,224,3)"
   ]
  },
  {
   "cell_type": "markdown",
   "metadata": {},
   "source": [
    "1. **`to_categorical(Y_data)`**:\n",
    "   - `Y_data` is likely a list or array containing integer labels (e.g., `[0, 1, 2, 3, 4, 5]`), which represent different classes (such as 'Donald', 'Mickey', etc.).\n",
    "   - The `to_categorical` function from Keras converts these integer labels into **one-hot encoded vectors**. This is a common preprocessing step in classification tasks.\n",
    "   \n",
    "2. **`num_classes=6`**:\n",
    "   - The `num_classes=6` argument specifies that there are 6 distinct classes in your dataset. \n",
    "   - For each label in `Y_data`, it will be converted into a vector of length 6, where the position corresponding to the class label will have a value of `1`, and all other positions will have a value of `0`.\n",
    "\n",
    "This transformation is important for categorical classification tasks where the model is expected to predict one class out of a fixed number of categories (in this case, 6)."
   ]
  },
  {
   "cell_type": "code",
   "execution_count": 10,
   "metadata": {
    "id": "KgQGgQKgQpmx"
   },
   "outputs": [],
   "source": [
    "Y_train = to_categorical(Y_data,num_classes=6)"
   ]
  },
  {
   "cell_type": "markdown",
   "metadata": {},
   "source": [
    "\n",
    "1. **`Conv2D(50, (2,2), activation='relu', input_shape=(224,224,3))`**:\n",
    "   - **`Conv2D`**: This is a 2D convolutional layer that performs a convolution operation on the input image.\n",
    "   - **`50`**: The number of filters (kernels) used for the convolution. Each filter detects different features in the image, such as edges or textures.\n",
    "   - **`(2,2)`**: The size of the convolutional kernel (filter). In this case, it is a 2x2 filter.\n",
    "   - **`activation='relu'`**: The activation function used here is Rectified Linear Unit (ReLU), which introduces non-linearity to the model and helps with training.\n",
    "   - **`input_shape=(224, 224, 3)`**: This specifies the input shape of the images, which are 224x224 pixels with 3 color channels (RGB). This input shape is required for the first layer in a Sequential model.\n",
    "\n",
    "2. **`MaxPooling2D(2,2)`**:\n",
    "   - **`MaxPooling2D`**: This is a pooling layer that reduces the spatial dimensions (height and width) of the feature maps. Pooling helps reduce the computational cost and the risk of overfitting.\n",
    "   - **`(2,2)`**: This indicates a 2x2 pooling window, which means it will take the maximum value in each 2x2 region of the input.\n",
    "\n",
    "3. **`Conv2D(50, (2,2), activation='relu')`**:\n",
    "   - This is another convolutional layer with the same number of filters (50) and kernel size (2x2), applying ReLU activation. This layer is used to learn more complex features from the previous layer’s output.\n",
    "\n",
    "4. **`MaxPooling2D(2,2)`**:\n",
    "   - Similar to the previous max-pooling layer, this reduces the size of the feature maps by taking the maximum value in each 2x2 region.\n",
    "\n",
    "5. **`Flatten()`**:\n",
    "   - The `Flatten` layer converts the 2D matrix output from the previous layer into a 1D vector. This is necessary to connect the convolutional/pooling layers with fully connected (Dense) layers.\n",
    "\n",
    "6. **`Dense(20, activation='relu')`**:\n",
    "   - **`Dense`**: This is a fully connected layer. It connects every neuron in the previous layer to every neuron in this layer.\n",
    "   - **`20`**: The number of neurons in this layer. \n",
    "   - **`activation='relu'`**: Again, ReLU is used as the activation function to introduce non-linearity.\n",
    "\n",
    "7. **`Dense(40, activation='relu')`**:\n",
    "   - Another fully connected layer with 40 neurons and ReLU activation. This layer helps learn higher-level abstractions of the data.\n",
    "\n",
    "8. **`Dense(6, activation='softmax')`**:\n",
    "   - The final `Dense` layer is the output layer.\n",
    "   - **`6`**: The number of neurons corresponds to the number of classes in the classification problem (6 classes in your case).\n",
    "   - **`activation='softmax'`**: Softmax is used here because it is a multi-class classification problem. It converts the raw outputs (logits) into probabilities, where the sum of the output values will be 1, and each value represents the likelihood of a class."
   ]
  },
  {
   "cell_type": "code",
   "execution_count": 17,
   "metadata": {
    "id": "DijI_0qlQpmx"
   },
   "outputs": [],
   "source": [
    "cnn = Sequential([Conv2D(50,(2,2),activation='relu',input_shape=(224,224,3)),\n",
    "                  MaxPooling2D(2,2),\n",
    "                  Conv2D(50,(2,2),activation='relu',input_shape=(224,224,3)),\n",
    "                  MaxPooling2D(2,2),\n",
    "                  Flatten(),\n",
    "                  Dense(20,activation='relu'),\n",
    "                  Dense(40,activation='relu'),\n",
    "                  Dense(6,activation='softmax')])"
   ]
  },
  {
   "cell_type": "markdown",
   "metadata": {},
   "source": [
    "\n",
    "- **`Optimizer`**: **`Adam`** - An adaptive optimizer that adjusts the learning rate during training for efficient performance.\n",
    "- **`Loss`**: **`Categorical cross-entropy`** - Used for multi-class classification with one-hot encoded labels.\n",
    "- **`Metrics`**: **`Accuracy`**, **`precision`**, and **`recall`** - Metrics to track the model's performance:\n",
    "  - **`Accuracy`**: Overall correctness of the model.\n",
    "  - **`Precision`**: Measures how many predicted positives are actually positive.\n",
    "  - **`Recall`**: Measures how many actual positives are correctly predicted."
   ]
  },
  {
   "cell_type": "code",
   "execution_count": 18,
   "metadata": {
    "id": "x2rvjRJvQpmx"
   },
   "outputs": [],
   "source": [
    "cnn.compile(optimizer='adam',\n",
    "            loss=\"categorical_crossentropy\",\n",
    "            metrics=['accuracy','precision', 'recall'])"
   ]
  },
  {
   "cell_type": "markdown",
   "metadata": {},
   "source": [
    "- **`cnn.fit()`**: This function is used to train the CNN model on the provided data.\n",
    "- **`X_train`**: The training data (images), reshaped and preprocessed, which will be fed into the model.\n",
    "- **`Y_train`**: The one-hot encoded labels corresponding to the images in `X_train`.\n",
    "- **`epochs=10`**: The model will be trained for 10 epochs, meaning the entire dataset will be passed through the network 10 times during training.\n",
    "\n",
    "This line starts the training process, adjusting the model's weights over 10 iterations (epochs) based on the training data and labels."
   ]
  },
  {
   "cell_type": "code",
   "execution_count": 27,
   "metadata": {
    "colab": {
     "base_uri": "https://localhost:8080/"
    },
    "id": "HlcGE5u5Qpmx",
    "outputId": "53aca3c5-7fc8-4ede-b975-e0d21dd8a592"
   },
   "outputs": [
    {
     "name": "stdout",
     "output_type": "stream",
     "text": [
      "Epoch 1/10\n",
      "\u001b[1m77/77\u001b[0m \u001b[32m━━━━━━━━━━━━━━━━━━━━\u001b[0m\u001b[37m\u001b[0m \u001b[1m3s\u001b[0m 40ms/step - accuracy: 0.8918 - loss: 0.3617 - precision: 0.8962 - recall: 0.8909\n",
      "Epoch 2/10\n",
      "\u001b[1m77/77\u001b[0m \u001b[32m━━━━━━━━━━━━━━━━━━━━\u001b[0m\u001b[37m\u001b[0m \u001b[1m5s\u001b[0m 39ms/step - accuracy: 0.9160 - loss: 0.3251 - precision: 0.9192 - recall: 0.9156\n",
      "Epoch 3/10\n",
      "\u001b[1m77/77\u001b[0m \u001b[32m━━━━━━━━━━━━━━━━━━━━\u001b[0m\u001b[37m\u001b[0m \u001b[1m3s\u001b[0m 38ms/step - accuracy: 0.9036 - loss: 0.3337 - precision: 0.9098 - recall: 0.8990\n",
      "Epoch 4/10\n",
      "\u001b[1m77/77\u001b[0m \u001b[32m━━━━━━━━━━━━━━━━━━━━\u001b[0m\u001b[37m\u001b[0m \u001b[1m5s\u001b[0m 41ms/step - accuracy: 0.9195 - loss: 0.3037 - precision: 0.9254 - recall: 0.9151\n",
      "Epoch 5/10\n",
      "\u001b[1m77/77\u001b[0m \u001b[32m━━━━━━━━━━━━━━━━━━━━\u001b[0m\u001b[37m\u001b[0m \u001b[1m3s\u001b[0m 38ms/step - accuracy: 0.9131 - loss: 0.3022 - precision: 0.9161 - recall: 0.9114\n",
      "Epoch 6/10\n",
      "\u001b[1m77/77\u001b[0m \u001b[32m━━━━━━━━━━━━━━━━━━━━\u001b[0m\u001b[37m\u001b[0m \u001b[1m5s\u001b[0m 39ms/step - accuracy: 0.9289 - loss: 0.2689 - precision: 0.9311 - recall: 0.9265\n",
      "Epoch 7/10\n",
      "\u001b[1m77/77\u001b[0m \u001b[32m━━━━━━━━━━━━━━━━━━━━\u001b[0m\u001b[37m\u001b[0m \u001b[1m3s\u001b[0m 39ms/step - accuracy: 0.9426 - loss: 0.2395 - precision: 0.9474 - recall: 0.9426\n",
      "Epoch 8/10\n",
      "\u001b[1m77/77\u001b[0m \u001b[32m━━━━━━━━━━━━━━━━━━━━\u001b[0m\u001b[37m\u001b[0m \u001b[1m5s\u001b[0m 40ms/step - accuracy: 0.9370 - loss: 0.2376 - precision: 0.9405 - recall: 0.9345\n",
      "Epoch 9/10\n",
      "\u001b[1m77/77\u001b[0m \u001b[32m━━━━━━━━━━━━━━━━━━━━\u001b[0m\u001b[37m\u001b[0m \u001b[1m3s\u001b[0m 39ms/step - accuracy: 0.9255 - loss: 0.2745 - precision: 0.9266 - recall: 0.9216\n",
      "Epoch 10/10\n",
      "\u001b[1m77/77\u001b[0m \u001b[32m━━━━━━━━━━━━━━━━━━━━\u001b[0m\u001b[37m\u001b[0m \u001b[1m5s\u001b[0m 43ms/step - accuracy: 0.9221 - loss: 0.3191 - precision: 0.9252 - recall: 0.9206\n"
     ]
    },
    {
     "data": {
      "text/plain": [
       "<keras.src.callbacks.history.History at 0x7bcaf1504070>"
      ]
     },
     "execution_count": 27,
     "metadata": {},
     "output_type": "execute_result"
    }
   ],
   "source": [
    "cnn.fit(X_train, Y_train,epochs=10)"
   ]
  },
  {
   "cell_type": "code",
   "execution_count": 30,
   "metadata": {
    "colab": {
     "base_uri": "https://localhost:8080/",
     "height": 425
    },
    "id": "BX44w-5JY_2E",
    "outputId": "464ea9b4-1df2-4934-c660-1834cfa8466e"
   },
   "outputs": [
    {
     "data": {
      "text/html": [
       "<pre style=\"white-space:pre;overflow-x:auto;line-height:normal;font-family:Menlo,'DejaVu Sans Mono',consolas,'Courier New',monospace\"><span style=\"font-weight: bold\">Model: \"sequential_2\"</span>\n",
       "</pre>\n"
      ],
      "text/plain": [
       "\u001b[1mModel: \"sequential_2\"\u001b[0m\n"
      ]
     },
     "metadata": {},
     "output_type": "display_data"
    },
    {
     "data": {
      "text/html": [
       "<pre style=\"white-space:pre;overflow-x:auto;line-height:normal;font-family:Menlo,'DejaVu Sans Mono',consolas,'Courier New',monospace\">┏━━━━━━━━━━━━━━━━━━━━━━━━━━━━━━━━━━━━━━┳━━━━━━━━━━━━━━━━━━━━━━━━━━━━━┳━━━━━━━━━━━━━━━━━┓\n",
       "┃<span style=\"font-weight: bold\"> Layer (type)                         </span>┃<span style=\"font-weight: bold\"> Output Shape                </span>┃<span style=\"font-weight: bold\">         Param # </span>┃\n",
       "┡━━━━━━━━━━━━━━━━━━━━━━━━━━━━━━━━━━━━━━╇━━━━━━━━━━━━━━━━━━━━━━━━━━━━━╇━━━━━━━━━━━━━━━━━┩\n",
       "│ conv2d_4 (<span style=\"color: #0087ff; text-decoration-color: #0087ff\">Conv2D</span>)                    │ (<span style=\"color: #00d7ff; text-decoration-color: #00d7ff\">None</span>, <span style=\"color: #00af00; text-decoration-color: #00af00\">223</span>, <span style=\"color: #00af00; text-decoration-color: #00af00\">223</span>, <span style=\"color: #00af00; text-decoration-color: #00af00\">50</span>)        │             <span style=\"color: #00af00; text-decoration-color: #00af00\">650</span> │\n",
       "├──────────────────────────────────────┼─────────────────────────────┼─────────────────┤\n",
       "│ max_pooling2d_4 (<span style=\"color: #0087ff; text-decoration-color: #0087ff\">MaxPooling2D</span>)       │ (<span style=\"color: #00d7ff; text-decoration-color: #00d7ff\">None</span>, <span style=\"color: #00af00; text-decoration-color: #00af00\">111</span>, <span style=\"color: #00af00; text-decoration-color: #00af00\">111</span>, <span style=\"color: #00af00; text-decoration-color: #00af00\">50</span>)        │               <span style=\"color: #00af00; text-decoration-color: #00af00\">0</span> │\n",
       "├──────────────────────────────────────┼─────────────────────────────┼─────────────────┤\n",
       "│ conv2d_5 (<span style=\"color: #0087ff; text-decoration-color: #0087ff\">Conv2D</span>)                    │ (<span style=\"color: #00d7ff; text-decoration-color: #00d7ff\">None</span>, <span style=\"color: #00af00; text-decoration-color: #00af00\">110</span>, <span style=\"color: #00af00; text-decoration-color: #00af00\">110</span>, <span style=\"color: #00af00; text-decoration-color: #00af00\">50</span>)        │          <span style=\"color: #00af00; text-decoration-color: #00af00\">10,050</span> │\n",
       "├──────────────────────────────────────┼─────────────────────────────┼─────────────────┤\n",
       "│ max_pooling2d_5 (<span style=\"color: #0087ff; text-decoration-color: #0087ff\">MaxPooling2D</span>)       │ (<span style=\"color: #00d7ff; text-decoration-color: #00d7ff\">None</span>, <span style=\"color: #00af00; text-decoration-color: #00af00\">55</span>, <span style=\"color: #00af00; text-decoration-color: #00af00\">55</span>, <span style=\"color: #00af00; text-decoration-color: #00af00\">50</span>)          │               <span style=\"color: #00af00; text-decoration-color: #00af00\">0</span> │\n",
       "├──────────────────────────────────────┼─────────────────────────────┼─────────────────┤\n",
       "│ flatten_2 (<span style=\"color: #0087ff; text-decoration-color: #0087ff\">Flatten</span>)                  │ (<span style=\"color: #00d7ff; text-decoration-color: #00d7ff\">None</span>, <span style=\"color: #00af00; text-decoration-color: #00af00\">151250</span>)              │               <span style=\"color: #00af00; text-decoration-color: #00af00\">0</span> │\n",
       "├──────────────────────────────────────┼─────────────────────────────┼─────────────────┤\n",
       "│ dense_6 (<span style=\"color: #0087ff; text-decoration-color: #0087ff\">Dense</span>)                      │ (<span style=\"color: #00d7ff; text-decoration-color: #00d7ff\">None</span>, <span style=\"color: #00af00; text-decoration-color: #00af00\">20</span>)                  │       <span style=\"color: #00af00; text-decoration-color: #00af00\">3,025,020</span> │\n",
       "├──────────────────────────────────────┼─────────────────────────────┼─────────────────┤\n",
       "│ dense_7 (<span style=\"color: #0087ff; text-decoration-color: #0087ff\">Dense</span>)                      │ (<span style=\"color: #00d7ff; text-decoration-color: #00d7ff\">None</span>, <span style=\"color: #00af00; text-decoration-color: #00af00\">40</span>)                  │             <span style=\"color: #00af00; text-decoration-color: #00af00\">840</span> │\n",
       "├──────────────────────────────────────┼─────────────────────────────┼─────────────────┤\n",
       "│ dense_8 (<span style=\"color: #0087ff; text-decoration-color: #0087ff\">Dense</span>)                      │ (<span style=\"color: #00d7ff; text-decoration-color: #00d7ff\">None</span>, <span style=\"color: #00af00; text-decoration-color: #00af00\">6</span>)                   │             <span style=\"color: #00af00; text-decoration-color: #00af00\">246</span> │\n",
       "└──────────────────────────────────────┴─────────────────────────────┴─────────────────┘\n",
       "</pre>\n"
      ],
      "text/plain": [
       "┏━━━━━━━━━━━━━━━━━━━━━━━━━━━━━━━━━━━━━━┳━━━━━━━━━━━━━━━━━━━━━━━━━━━━━┳━━━━━━━━━━━━━━━━━┓\n",
       "┃\u001b[1m \u001b[0m\u001b[1mLayer (type)                        \u001b[0m\u001b[1m \u001b[0m┃\u001b[1m \u001b[0m\u001b[1mOutput Shape               \u001b[0m\u001b[1m \u001b[0m┃\u001b[1m \u001b[0m\u001b[1m        Param #\u001b[0m\u001b[1m \u001b[0m┃\n",
       "┡━━━━━━━━━━━━━━━━━━━━━━━━━━━━━━━━━━━━━━╇━━━━━━━━━━━━━━━━━━━━━━━━━━━━━╇━━━━━━━━━━━━━━━━━┩\n",
       "│ conv2d_4 (\u001b[38;5;33mConv2D\u001b[0m)                    │ (\u001b[38;5;45mNone\u001b[0m, \u001b[38;5;34m223\u001b[0m, \u001b[38;5;34m223\u001b[0m, \u001b[38;5;34m50\u001b[0m)        │             \u001b[38;5;34m650\u001b[0m │\n",
       "├──────────────────────────────────────┼─────────────────────────────┼─────────────────┤\n",
       "│ max_pooling2d_4 (\u001b[38;5;33mMaxPooling2D\u001b[0m)       │ (\u001b[38;5;45mNone\u001b[0m, \u001b[38;5;34m111\u001b[0m, \u001b[38;5;34m111\u001b[0m, \u001b[38;5;34m50\u001b[0m)        │               \u001b[38;5;34m0\u001b[0m │\n",
       "├──────────────────────────────────────┼─────────────────────────────┼─────────────────┤\n",
       "│ conv2d_5 (\u001b[38;5;33mConv2D\u001b[0m)                    │ (\u001b[38;5;45mNone\u001b[0m, \u001b[38;5;34m110\u001b[0m, \u001b[38;5;34m110\u001b[0m, \u001b[38;5;34m50\u001b[0m)        │          \u001b[38;5;34m10,050\u001b[0m │\n",
       "├──────────────────────────────────────┼─────────────────────────────┼─────────────────┤\n",
       "│ max_pooling2d_5 (\u001b[38;5;33mMaxPooling2D\u001b[0m)       │ (\u001b[38;5;45mNone\u001b[0m, \u001b[38;5;34m55\u001b[0m, \u001b[38;5;34m55\u001b[0m, \u001b[38;5;34m50\u001b[0m)          │               \u001b[38;5;34m0\u001b[0m │\n",
       "├──────────────────────────────────────┼─────────────────────────────┼─────────────────┤\n",
       "│ flatten_2 (\u001b[38;5;33mFlatten\u001b[0m)                  │ (\u001b[38;5;45mNone\u001b[0m, \u001b[38;5;34m151250\u001b[0m)              │               \u001b[38;5;34m0\u001b[0m │\n",
       "├──────────────────────────────────────┼─────────────────────────────┼─────────────────┤\n",
       "│ dense_6 (\u001b[38;5;33mDense\u001b[0m)                      │ (\u001b[38;5;45mNone\u001b[0m, \u001b[38;5;34m20\u001b[0m)                  │       \u001b[38;5;34m3,025,020\u001b[0m │\n",
       "├──────────────────────────────────────┼─────────────────────────────┼─────────────────┤\n",
       "│ dense_7 (\u001b[38;5;33mDense\u001b[0m)                      │ (\u001b[38;5;45mNone\u001b[0m, \u001b[38;5;34m40\u001b[0m)                  │             \u001b[38;5;34m840\u001b[0m │\n",
       "├──────────────────────────────────────┼─────────────────────────────┼─────────────────┤\n",
       "│ dense_8 (\u001b[38;5;33mDense\u001b[0m)                      │ (\u001b[38;5;45mNone\u001b[0m, \u001b[38;5;34m6\u001b[0m)                   │             \u001b[38;5;34m246\u001b[0m │\n",
       "└──────────────────────────────────────┴─────────────────────────────┴─────────────────┘\n"
      ]
     },
     "metadata": {},
     "output_type": "display_data"
    },
    {
     "data": {
      "text/html": [
       "<pre style=\"white-space:pre;overflow-x:auto;line-height:normal;font-family:Menlo,'DejaVu Sans Mono',consolas,'Courier New',monospace\"><span style=\"font-weight: bold\"> Total params: </span><span style=\"color: #00af00; text-decoration-color: #00af00\">9,110,420</span> (34.75 MB)\n",
       "</pre>\n"
      ],
      "text/plain": [
       "\u001b[1m Total params: \u001b[0m\u001b[38;5;34m9,110,420\u001b[0m (34.75 MB)\n"
      ]
     },
     "metadata": {},
     "output_type": "display_data"
    },
    {
     "data": {
      "text/html": [
       "<pre style=\"white-space:pre;overflow-x:auto;line-height:normal;font-family:Menlo,'DejaVu Sans Mono',consolas,'Courier New',monospace\"><span style=\"font-weight: bold\"> Trainable params: </span><span style=\"color: #00af00; text-decoration-color: #00af00\">3,036,806</span> (11.58 MB)\n",
       "</pre>\n"
      ],
      "text/plain": [
       "\u001b[1m Trainable params: \u001b[0m\u001b[38;5;34m3,036,806\u001b[0m (11.58 MB)\n"
      ]
     },
     "metadata": {},
     "output_type": "display_data"
    },
    {
     "data": {
      "text/html": [
       "<pre style=\"white-space:pre;overflow-x:auto;line-height:normal;font-family:Menlo,'DejaVu Sans Mono',consolas,'Courier New',monospace\"><span style=\"font-weight: bold\"> Non-trainable params: </span><span style=\"color: #00af00; text-decoration-color: #00af00\">0</span> (0.00 B)\n",
       "</pre>\n"
      ],
      "text/plain": [
       "\u001b[1m Non-trainable params: \u001b[0m\u001b[38;5;34m0\u001b[0m (0.00 B)\n"
      ]
     },
     "metadata": {},
     "output_type": "display_data"
    },
    {
     "data": {
      "text/html": [
       "<pre style=\"white-space:pre;overflow-x:auto;line-height:normal;font-family:Menlo,'DejaVu Sans Mono',consolas,'Courier New',monospace\"><span style=\"font-weight: bold\"> Optimizer params: </span><span style=\"color: #00af00; text-decoration-color: #00af00\">6,073,614</span> (23.17 MB)\n",
       "</pre>\n"
      ],
      "text/plain": [
       "\u001b[1m Optimizer params: \u001b[0m\u001b[38;5;34m6,073,614\u001b[0m (23.17 MB)\n"
      ]
     },
     "metadata": {},
     "output_type": "display_data"
    }
   ],
   "source": [
    "cnn.summary()"
   ]
  },
  {
   "cell_type": "markdown",
   "metadata": {},
   "source": [
    "1. **`a = X_data[1].reshape(1, 224, 224, 3)`**:\n",
    "   - This reshapes the second image in `X_data` (i.e., `X_data[1]`) to have the shape `(1, 224, 224, 3)`.\n",
    "   - The `1` indicates a single image (as the model expects a batch of images, even if it's just one). \n",
    "   - The `224x224` is the image size, and `3` refers to the three color channels (RGB).\n",
    "\n",
    "2. **`prediction = cnn.predict(a)`**:\n",
    "   - This runs the reshaped image `a` through the trained CNN model to make a prediction. \n",
    "   - The output `prediction` will be an array of class probabilities (size 6 in your case, for each class).\n",
    "\n",
    "3. **`mappings[np.argmax(prediction)]`**:\n",
    "   - `np.argmax(prediction)` finds the index of the class with the highest probability in the `prediction` array.\n",
    "   - `mappings[np.argmax(prediction)]` then maps this index to the corresponding class name (e.g., 'Donald', 'Mickey', etc.) using the `mappings` dictionary.\n",
    "\n",
    "This code reshapes a single image from `X_data`, makes a prediction using the CNN model, and then maps the predicted class index to its corresponding label."
   ]
  },
  {
   "cell_type": "code",
   "execution_count": 28,
   "metadata": {
    "colab": {
     "base_uri": "https://localhost:8080/",
     "height": 53
    },
    "id": "18eR9xoQQpmx",
    "outputId": "b9ddf873-eee6-4701-fa70-fde7271f9439"
   },
   "outputs": [
    {
     "name": "stdout",
     "output_type": "stream",
     "text": [
      "\u001b[1m1/1\u001b[0m \u001b[32m━━━━━━━━━━━━━━━━━━━━\u001b[0m\u001b[37m\u001b[0m \u001b[1m1s\u001b[0m 803ms/step\n"
     ]
    },
    {
     "data": {
      "application/vnd.google.colaboratory.intrinsic+json": {
       "type": "string"
      },
      "text/plain": [
       "'Pooh'"
      ]
     },
     "execution_count": 28,
     "metadata": {},
     "output_type": "execute_result"
    }
   ],
   "source": [
    "a = X_data[1].reshape(1,224,224,3)\n",
    "prediction = cnn.predict(a)\n",
    "mappings[np.argmax(prediction)]"
   ]
  },
  {
   "cell_type": "markdown",
   "metadata": {},
   "source": [
    "- **`cnn.save('model.keras')`**: This function saves the trained CNN model to a file.\n",
    "  - **`'model.keras'`**: The file name where the model will be saved. The `.keras` extension is used to save the model in Keras's native format, which includes the architecture, weights, and training configuration.\n",
    "\n",
    "This line saves the trained model so that it can be reloaded and used later without needing to retrain it."
   ]
  },
  {
   "cell_type": "code",
   "execution_count": 29,
   "metadata": {
    "id": "jl_2l_NcQpmx"
   },
   "outputs": [],
   "source": [
    "cnn.save('model.keras')"
   ]
  }
 ],
 "metadata": {
  "accelerator": "GPU",
  "colab": {
   "gpuType": "T4",
   "provenance": []
  },
  "kernelspec": {
   "display_name": "Python 3",
   "name": "python3"
  },
  "language_info": {
   "codemirror_mode": {
    "name": "ipython",
    "version": 3
   },
   "file_extension": ".py",
   "mimetype": "text/x-python",
   "name": "python",
   "nbconvert_exporter": "python",
   "pygments_lexer": "ipython3",
   "version": "3.12.6"
  }
 },
 "nbformat": 4,
 "nbformat_minor": 0
}
