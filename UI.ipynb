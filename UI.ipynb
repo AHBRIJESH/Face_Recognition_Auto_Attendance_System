{
 "cells": [
  {
   "cell_type": "code",
   "execution_count": 1,
   "metadata": {},
   "outputs": [],
   "source": [
    "import numpy as np\n",
    "import pandas as pd\n",
    "import os\n",
    "import cv2\n",
    "import matplotlib.pyplot as plt\n",
    "import pyodbc\n",
    "from datetime import datetime \n",
    "from tensorflow.keras.models import load_model\n",
    "from flask import Flask"
   ]
  },
  {
   "cell_type": "code",
   "execution_count": 2,
   "metadata": {},
   "outputs": [],
   "source": [
    "cnn = load_model('model.keras')"
   ]
  },
  {
   "cell_type": "code",
   "execution_count": 3,
   "metadata": {},
   "outputs": [],
   "source": [
    "connection = pyodbc.connect(\"DSN=SQL\")"
   ]
  },
  {
   "cell_type": "code",
   "execution_count": 4,
   "metadata": {},
   "outputs": [],
   "source": [
    "cur = connection.cursor()"
   ]
  },
  {
   "cell_type": "code",
   "execution_count": 5,
   "metadata": {},
   "outputs": [
    {
     "data": {
      "text/plain": [
       "<pyodbc.Cursor at 0x1767e5c3c30>"
      ]
     },
     "execution_count": 5,
     "metadata": {},
     "output_type": "execute_result"
    }
   ],
   "source": [
    "cur.execute('create table Attendence_Record ( Date DATE, Name Varchar(30) , Entry_Time Time)')"
   ]
  },
  {
   "cell_type": "code",
   "execution_count": 42,
   "metadata": {},
   "outputs": [
    {
     "name": "stdout",
     "output_type": "stream",
     "text": [
      "\u001b[1m1/1\u001b[0m \u001b[32m━━━━━━━━━━━━━━━━━━━━\u001b[0m\u001b[37m\u001b[0m \u001b[1m0s\u001b[0m 62ms/step\n",
      "\u001b[1m1/1\u001b[0m \u001b[32m━━━━━━━━━━━━━━━━━━━━\u001b[0m\u001b[37m\u001b[0m \u001b[1m0s\u001b[0m 58ms/step\n"
     ]
    }
   ],
   "source": [
    "cap = cv2.VideoCapture(0)\n",
    "results = []\n",
    "\n",
    "while (True):\n",
    "    ret,frame = cap.read()\n",
    "    if ret == False:\n",
    "        print(\"Can't capture an image.\")\n",
    "        break\n",
    "    \n",
    "    cv2.imshow('Camera',frame)\n",
    "    key = cv2.waitKey(1)\n",
    "\n",
    "    if key == ord('s'):\n",
    "\n",
    "        cap_img= 'captured Image.jpg'.format(len(results) + 1)\n",
    "        cv2.imwrite(cap_img,frame)\n",
    "        resized_frame = cv2.resize(frame, (300, 300))\n",
    "        img = cv2.cvtColor(resized_frame, cv2.COLOR_BGR2RGB)\n",
    "        g_image = cv2.cvtColor(img, cv2.COLOR_RGB2GRAY)\n",
    "        in_img = g_image.reshape(1,300,300,1)\n",
    "        predection = cnn.predict(in_img)\n",
    "        labels = ['donald','mickey','minion','olfa','pooh','pumba']\n",
    "        Name = labels[np.argmax(predection)]\n",
    "\n",
    "\n",
    "        currunt_time = datetime.now()\n",
    "        Date = currunt_time.strftime('%Y-%m-%D')\n",
    "        time = currunt_time.strftime('%H:%M:%S')\n",
    "        cur.execute('INSERT INTO Attendence_Record (Date, Name, Entry_time) VALUES (?, ?, ?)', (Date, Name, time))\n",
    "        cur.commit()\n",
    "\n",
    "\n",
    "    elif key == ord('q'):\n",
    "        break\n",
    "\n",
    "df = pd.DataFrame(results)\n",
    "df.to_csv('Attendence.csv',index=False)\n",
    "\n",
    "cap.release()\n",
    "cv2.destroyAllWindows()"
   ]
  },
  {
   "cell_type": "code",
   "execution_count": 49,
   "metadata": {},
   "outputs": [
    {
     "data": {
      "text/plain": [
       "<pyodbc.Cursor at 0x1ce6515f7b0>"
      ]
     },
     "execution_count": 49,
     "metadata": {},
     "output_type": "execute_result"
    }
   ],
   "source": [
    "cur.execute(\"select*from attendence_Record\")"
   ]
  },
  {
   "cell_type": "code",
   "execution_count": 50,
   "metadata": {},
   "outputs": [
    {
     "data": {
      "text/plain": [
       "(2, 3)"
      ]
     },
     "execution_count": 50,
     "metadata": {},
     "output_type": "execute_result"
    }
   ],
   "source": [
    "data = cur.fetchall()\n",
    "data = np.array(data)\n",
    "data.shape"
   ]
  },
  {
   "cell_type": "code",
   "execution_count": 51,
   "metadata": {},
   "outputs": [
    {
     "data": {
      "text/plain": [
       "array([[datetime.date(2024, 9, 9), 'donald', datetime.time(7, 46, 36)],\n",
       "       [datetime.date(2024, 9, 9), 'donald', datetime.time(7, 46, 46)]],\n",
       "      dtype=object)"
      ]
     },
     "execution_count": 51,
     "metadata": {},
     "output_type": "execute_result"
    }
   ],
   "source": [
    "data"
   ]
  },
  {
   "cell_type": "code",
   "execution_count": 62,
   "metadata": {},
   "outputs": [
    {
     "data": {
      "text/plain": [
       "(0,)"
      ]
     },
     "execution_count": 62,
     "metadata": {},
     "output_type": "execute_result"
    }
   ],
   "source": [
    "cur.execute(\"truncate table Attendence_Record\")\n",
    "cur.commit()\n",
    "cur.execute(\"select*from Attendence_Record\")\n",
    "data = cur.fetchall()\n",
    "data = np.array(data)\n",
    "data.shape"
   ]
  }
 ],
 "metadata": {
  "kernelspec": {
   "display_name": "Python 3",
   "language": "python",
   "name": "python3"
  },
  "language_info": {
   "codemirror_mode": {
    "name": "ipython",
    "version": 3
   },
   "file_extension": ".py",
   "mimetype": "text/x-python",
   "name": "python",
   "nbconvert_exporter": "python",
   "pygments_lexer": "ipython3",
   "version": "3.12.3"
  }
 },
 "nbformat": 4,
 "nbformat_minor": 2
}
